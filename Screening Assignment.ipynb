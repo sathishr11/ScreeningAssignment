{
 "cells": [
  {
   "cell_type": "markdown",
   "metadata": {},
   "source": [
    "# Python Screening Assignment"
   ]
  },
  {
   "cell_type": "markdown",
   "metadata": {},
   "source": [
    "## 1. Create a function in python to read the text file and replace specific content of the file.\n",
    "\n",
    "\n",
    "\n",
    "|File name |example.txt|\n",
    "|:---|:---|\n",
    "|Origin file content |This is a placement assignment|\n",
    "|Replace string |Placement should be replaced by screening.|\n",
    "|Replaced file content| This is a screening assignment|\n"
   ]
  },
  {
   "cell_type": "code",
   "execution_count": 1,
   "metadata": {},
   "outputs": [],
   "source": [
    "def relace_file_contents(filepath, old_string, new_string):\n",
    "    \"\"\"\n",
    "    \"\"\"\n",
    "    if old_string == new_string:\n",
    "        print('String to be replaced is same as original string. No operation required')\n",
    "        return\n",
    "    # Read the file contents and create string to be overwritten\n",
    "    try:\n",
    "        with open(filepath, 'r') as f:\n",
    "            data = f.read()\n",
    "            data = data.lower().replace(old_string, new_string)\n",
    "    except Exception as e:\n",
    "        raise e\n",
    "    \n",
    "    # Write the file after replacing string\n",
    "    try:\n",
    "        with open(filepath, 'w') as f:\n",
    "            f.write(data)\n",
    "    except Exception as e:\n",
    "        raise e                "
   ]
  },
  {
   "cell_type": "code",
   "execution_count": 2,
   "metadata": {},
   "outputs": [
    {
     "name": "stdout",
     "output_type": "stream",
     "text": [
      "Overwriting example.txt\n"
     ]
    }
   ],
   "source": [
    "%%writefile example.txt\n",
    "This is a placement assignment"
   ]
  },
  {
   "cell_type": "code",
   "execution_count": 3,
   "metadata": {},
   "outputs": [],
   "source": [
    "old_string = 'placement'\n",
    "new_string = 'screening'\n",
    "filepath = 'example.txt'\n",
    "relace_file_contents(filepath, old_string, new_string)"
   ]
  },
  {
   "cell_type": "markdown",
   "metadata": {},
   "source": [
    "## 2. Demonstrate use of abstract class, multiple inheritance and decorator in python using examples."
   ]
  },
  {
   "cell_type": "markdown",
   "metadata": {},
   "source": [
    "### 2.1 Abstract class"
   ]
  },
  {
   "cell_type": "markdown",
   "metadata": {},
   "source": [
    "#### Abstract classes are classes with set of methods that needs to created by any child class which inherits the abstract class."
   ]
  },
  {
   "cell_type": "code",
   "execution_count": 4,
   "metadata": {},
   "outputs": [],
   "source": [
    "from abc import ABC, abstractmethod\n",
    "\n",
    "class Vehicle(ABC):\n",
    "    \n",
    "    @abstractmethod\n",
    "    def driving(self):\n",
    "        pass\n",
    "    \n",
    "    @abstractmethod\n",
    "    def braking(self):\n",
    "        pass\n",
    "\n",
    "class TwoWheeler(Vehicle):\n",
    "    def driving(self):\n",
    "        print('Driving Two wheeler')\n",
    "    "
   ]
  },
  {
   "cell_type": "code",
   "execution_count": 5,
   "metadata": {},
   "outputs": [
    {
     "ename": "TypeError",
     "evalue": "Can't instantiate abstract class TwoWheeler with abstract methods braking",
     "output_type": "error",
     "traceback": [
      "\u001b[1;31m---------------------------------------------------------------------------\u001b[0m",
      "\u001b[1;31mTypeError\u001b[0m                                 Traceback (most recent call last)",
      "\u001b[1;32m<ipython-input-5-3adfe3c4c814>\u001b[0m in \u001b[0;36m<module>\u001b[1;34m\u001b[0m\n\u001b[1;32m----> 1\u001b[1;33m \u001b[0mbike\u001b[0m \u001b[1;33m=\u001b[0m \u001b[0mTwoWheeler\u001b[0m\u001b[1;33m(\u001b[0m\u001b[1;33m)\u001b[0m\u001b[1;33m\u001b[0m\u001b[1;33m\u001b[0m\u001b[0m\n\u001b[0m",
      "\u001b[1;31mTypeError\u001b[0m: Can't instantiate abstract class TwoWheeler with abstract methods braking"
     ]
    }
   ],
   "source": [
    "bike = TwoWheeler()"
   ]
  },
  {
   "cell_type": "markdown",
   "metadata": {},
   "source": [
    "#### Since we have declared driving and breaking as abstract methods. We cannot create instance of TwoWheeler unless we have braking method in child class."
   ]
  },
  {
   "cell_type": "code",
   "execution_count": 6,
   "metadata": {},
   "outputs": [
    {
     "name": "stdout",
     "output_type": "stream",
     "text": [
      "Applying brakes for Four wheeler\n"
     ]
    }
   ],
   "source": [
    "class FourWheeler(Vehicle):\n",
    "    def driving(self):\n",
    "        print('Driving Four wheeler')\n",
    "    def braking(self):\n",
    "        print('Applying brakes for Four wheeler')\n",
    "\n",
    "car = FourWheeler()\n",
    "car.braking()"
   ]
  },
  {
   "cell_type": "markdown",
   "metadata": {},
   "source": [
    "### 2.2 Multiple inheritance class"
   ]
  },
  {
   "cell_type": "markdown",
   "metadata": {},
   "source": [
    "#### Child class can inherit methods and variables from multiple classes"
   ]
  },
  {
   "cell_type": "code",
   "execution_count": 7,
   "metadata": {},
   "outputs": [
    {
     "name": "stdout",
     "output_type": "stream",
     "text": [
      "Parent 1 teaching music\n",
      "Parent 2 teaching sport\n"
     ]
    }
   ],
   "source": [
    "# Multiple Inheritance\n",
    " \n",
    "class Parent1:\n",
    "    def learn_music(self):\n",
    "        print('Parent 1 teaching music')\n",
    "\n",
    "class Parent2:\n",
    "    def learn_sport(self):\n",
    "        print('Parent 2 teaching sport')\n",
    "    \n",
    "\n",
    "class Child(Parent1, Parent2):\n",
    "    def inherited(self):\n",
    "        self.learn_music()\n",
    "        self.learn_sport()\n",
    "\n",
    "\n",
    "obj = Child()\n",
    "obj.inherited()"
   ]
  },
  {
   "cell_type": "markdown",
   "metadata": {},
   "source": [
    "### 2.3 Decorator"
   ]
  },
  {
   "cell_type": "markdown",
   "metadata": {},
   "source": [
    "#### Decorator is used to modify the behaviour of the function without changing the actual function. In below example, we will calculate execution time of a function without modifying the funciton."
   ]
  },
  {
   "cell_type": "code",
   "execution_count": 8,
   "metadata": {},
   "outputs": [
    {
     "name": "stdout",
     "output_type": "stream",
     "text": [
      "------------Wait for 10 seconds----------\n",
      "wait_10_seconds function started at 2022-06-16 21:46:12.775397\n",
      "wait_10_seconds function ended at 2022-06-16 21:46:22.782306\n",
      "wait_10_seconds function ran for 10.006908655166626 seconds\n",
      "------------Wait for 5 seconds----------\n",
      "wait_5_seconds function started at 2022-06-16 21:46:22.784386\n",
      "wait_5_seconds function ended at 2022-06-16 21:46:27.788531\n",
      "wait_5_seconds function ran for 5.004144906997681 seconds\n"
     ]
    }
   ],
   "source": [
    "from datetime import datetime\n",
    "import time\n",
    "\n",
    "\n",
    "def decorator_function(func):\n",
    "\n",
    "    def wrapper():\n",
    "        starttime = time.time()\n",
    "        print(f'{func.__name__} function started at {datetime.now()}')\n",
    "        func()\n",
    "        endtime = time.time()\n",
    "        print(f'{func.__name__} function ended at {datetime.now()}')        \n",
    "        print(f'{func.__name__} function ran for {endtime-starttime} seconds')\n",
    "    return wrapper\n",
    "\n",
    "\n",
    "@decorator_function\n",
    "def wait_10_seconds():\n",
    "    time.sleep(10)\n",
    "\n",
    "@decorator_function\n",
    "def wait_5_seconds():\n",
    "    time.sleep(5)\n",
    "\n",
    "print('------------Wait for 10 seconds----------')\n",
    "wait_10_seconds()\n",
    "print('------------Wait for 5 seconds----------')\n",
    "wait_5_seconds()\n"
   ]
  },
  {
   "cell_type": "code",
   "execution_count": null,
   "metadata": {},
   "outputs": [],
   "source": []
  }
 ],
 "metadata": {
  "kernelspec": {
   "display_name": "Python 3",
   "language": "python",
   "name": "python3"
  },
  "language_info": {
   "codemirror_mode": {
    "name": "ipython",
    "version": 3
   },
   "file_extension": ".py",
   "mimetype": "text/x-python",
   "name": "python",
   "nbconvert_exporter": "python",
   "pygments_lexer": "ipython3",
   "version": "3.7.6"
  }
 },
 "nbformat": 4,
 "nbformat_minor": 4
}
